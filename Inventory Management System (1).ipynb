{
 "cells": [
  {
   "cell_type": "markdown",
   "id": "8daa2a69-c519-4d6c-9166-b83511d9e80c",
   "metadata": {},
   "source": [
    "# **Inventory Management System**"
   ]
  },
  {
   "cell_type": "markdown",
   "id": "26275b81-8954-40ae-a0e5-000212b0af39",
   "metadata": {},
   "source": [
    "- Product ID\n",
    "- Name of Product\n",
    "- Price of Product\n",
    "- Quantity of Product"
   ]
  },
  {
   "cell_type": "code",
   "execution_count": 19,
   "id": "2b0f9faf-cda6-4abb-90ae-e49eaaf618de",
   "metadata": {},
   "outputs": [],
   "source": [
    "import time"
   ]
  },
  {
   "cell_type": "code",
   "execution_count": 20,
   "id": "5f7b30c8-00e6-4bd4-8415-80770fb1e6ed",
   "metadata": {},
   "outputs": [],
   "source": [
    "def write():\n",
    "        fd = open(\"Inventory.txt\", \"a\")\n",
    "        print(\"Enter Product Details: \")\n",
    "        ID = input(\"Enter Product ID: \")\n",
    "        name = input(\"Enter Product name: \")\n",
    "        price = input(\"Enter price per item: \")\n",
    "        quantity = input(\"Enter quantity: \")\n",
    "        fd.write(f\"\\n{ID},{name},{price},{quantity}\\n\")     \n",
    "        fd.close()     \n",
    "def read():\n",
    "    try:\n",
    "        fd = open(\"Inventory.txt\", \"r\")\n",
    "        txt = fd.read()\n",
    "        txt = txt.strip()\n",
    "        print(\"\\nTotal number of products: \", len(txt.split(\"\\n\")))\n",
    "        print(txt)\n",
    "        fd.close()\n",
    "    except:\n",
    "        print(\"No file found!\")\n",
    "def shop():\n",
    "    try:\n",
    "        with open(\"Inventory.txt\", \"r\") as fd:\n",
    "            id = input(\"Enter ID to find: \")\n",
    "            qn = input(\"Enter amount to buy: \")\n",
    "    \n",
    "            updated_products = []\n",
    "            sold = []\n",
    "            products = fd.read().split(\"\\n\")\n",
    "            for product in products:\n",
    "                prod_details = product.split(\",\")\n",
    "                if prod_details[0] == id:\n",
    "                    if int(prod_details[3]) >= int(qn):\n",
    "                        print(\"-\"*30)\n",
    "                        print(\"Product name     :\", prod_details[1])\n",
    "                        print(\"Product price    :\", prod_details[2])\n",
    "                        print(\"Product quantity :\", qn)\n",
    "                        print(\"Billing amount   :\", int(prod_details[2])*int(qn))\n",
    "                        print(\"-\"*30)\n",
    "                        \n",
    "                        sold.extend([prod_details[0],qn])\n",
    "                        prod_details[3] = str(int(prod_details[3]) - int(qn))\n",
    "                    else:\n",
    "                        print(\"Sorry We are not having Enough quantity.\")\n",
    "                        print(\"We're having only \", prod_details[3],\"quantity\")\n",
    "                        print(\"Would you like to purchase it?\")\n",
    "    \n",
    "                        ch = input(\"Press Y/N: \")\n",
    "                        if ch.lower() == 'y':\n",
    "                            print(\"-\"*30)\n",
    "                            print(\"Product name     :\", prod_details[1])\n",
    "                            print(\"Product price    :\", prod_details[2])\n",
    "                            print(\"Product quantity :\", prod_details[3])\n",
    "                            print(\"Billing amount   :\", int(prod_details[2])*int(prod_details[3]))\n",
    "                            print(\"-\"*30)\n",
    "\n",
    "                            sold.extend([prod_details[0],prod_details[3]])\n",
    "                            prod_details[3] = \"0\"\n",
    "                updated_products.append(\",\".join(prod_details))\n",
    "            update(updated_products)\n",
    "            sales(sold)\n",
    "    except FileNotFoundError:\n",
    "        print(\"No file found!\")\n",
    "        \n",
    "def update(products):\n",
    "    file = open(\"Inventory.txt\", \"w\")\n",
    "    for i, prod in enumerate(products):\n",
    "        if i != len(products) - 1:\n",
    "            file.write(prod + \"\\n\")\n",
    "        else:\n",
    "            file.write(prod) \n",
    "    file.close()\n",
    "\n",
    "def sales(sold):\n",
    "    name = input(\"Enter your name: \")\n",
    "    mail = input(\"Enter your E-mail: \")\n",
    "    with open(\"sales.txt\", \"a\") as file:\n",
    "        file.write(f\"{name},{mail},{sold[0]},{sold[1]},{time.strftime(\"%d-%m-%Y,%H:%M:%S\")}\\n\")\n",
    "\n",
    "def history():\n",
    "    with open(\"text_sales.txt\", \"r\") as file:\n",
    "        txt = file.read()\n",
    "        txt = txt.strip()\n",
    "        print(txt)"
   ]
  },
  {
   "cell_type": "code",
   "execution_count": 21,
   "id": "9e8e8135-a5b4-412f-8a4a-2ff1979439fa",
   "metadata": {},
   "outputs": [
    {
     "name": "stdout",
     "output_type": "stream",
     "text": [
      "1. Add items to cart\n",
      "2. view the cart\n",
      "3. Shop by ID\n",
      "4. transaction history\n",
      "5. close\n"
     ]
    },
    {
     "name": "stdin",
     "output_type": "stream",
     "text": [
      "\n",
      "Enter your choice:  2\n"
     ]
    },
    {
     "name": "stdout",
     "output_type": "stream",
     "text": [
      "\n",
      "Total number of products:  7\n",
      "1,pen,5,14\n",
      "2,pencil,34,45\n",
      "3,eraser,23,10\n",
      "4,chips,20,90\n",
      "5,kurkure,10,70\n",
      "7,lays,15,35\n",
      "8,chocolate,10,20\n"
     ]
    },
    {
     "name": "stdin",
     "output_type": "stream",
     "text": [
      "\n",
      "Enter your choice:  5\n"
     ]
    },
    {
     "name": "stdout",
     "output_type": "stream",
     "text": [
      "Exited Successfully.\n"
     ]
    }
   ],
   "source": [
    "print(\"1. Add items to cart\")\n",
    "print(\"2. view the cart\")\n",
    "print(\"3. Shop by ID\")\n",
    "print(\"4. transaction history\")\n",
    "print(\"5. close\")\n",
    "try:\n",
    "    while True:\n",
    "            n = int(input(\"\\nEnter your choice: \"))\n",
    "            if n == 1:\n",
    "                write()\n",
    "            elif n == 2:\n",
    "                read()\n",
    "            elif n == 3:\n",
    "                shop()\n",
    "            elif n == 4:\n",
    "                history()\n",
    "            elif n == 5:\n",
    "                print(\"Exited Successfully.\")\n",
    "                break\n",
    "            else:\n",
    "                print(\"Enter valid option!\")\n",
    "except:\n",
    "    print(\"Enter numeric value!\")"
   ]
  },
  {
   "cell_type": "markdown",
   "id": "f338c295-3874-4d83-832f-9e5777716a4e",
   "metadata": {},
   "source": [
    "# Inventory Management using **JSON**"
   ]
  },
  {
   "cell_type": "code",
   "execution_count": 22,
   "id": "30c133bc-311d-4ec9-9e9c-06a48acfa009",
   "metadata": {},
   "outputs": [],
   "source": [
    "import json"
   ]
  },
  {
   "cell_type": "code",
   "execution_count": 23,
   "id": "84f52929-32ea-48cb-9a04-085db33feade",
   "metadata": {},
   "outputs": [
    {
     "data": {
      "text/plain": [
       "{'1002': {'Name': 'bar-one', 'Price': 20, 'Quantity': 100},\n",
       " '1003': {'Name': 'candy', 'Price': 2, 'Quantity': 960},\n",
       " '1004': {'Name': 'chocolate cake', 'Price': 550, 'Quantity': 5},\n",
       " '1005': {'Name': 'blueberry cake', 'Price': 650, 'Quantity': 5},\n",
       " '1006': {'Name': 'corneto', 'Price': 15, 'Quantity': 75},\n",
       " '1008': {'Name': 'plazo', 'Price': 30, 'Quantity': 0, 'Category': 'general'}}"
      ]
     },
     "execution_count": 23,
     "metadata": {},
     "output_type": "execute_result"
    }
   ],
   "source": [
    "with open(\"records.json\", \"r\") as file:\n",
    "    js = file.read()\n",
    "    record = json.loads(js)\n",
    "record"
   ]
  },
  {
   "cell_type": "code",
   "execution_count": 24,
   "id": "a6994730-759f-4d2e-a8da-8cfd9cbdf01e",
   "metadata": {},
   "outputs": [],
   "source": [
    "final,grand = [],[]\n",
    "gst_rates = {\n",
    "    \"cake\":0.05,\n",
    "    \"electronics\":0.18,\n",
    "    \"general\":0.12\n",
    "        }"
   ]
  },
  {
   "cell_type": "code",
   "execution_count": 25,
   "id": "20c2edd8-06fd-404d-a8cc-454acfe6f3bb",
   "metadata": {},
   "outputs": [],
   "source": [
    "def add():\n",
    "    key = input(\"Enter Product ID: \")\n",
    "    name = input(\"Enter Product Name: \")\n",
    "    price = int(input(\"Enter Product Price: \"))\n",
    "    quantity = int(input(\"Enter Product Quantity: \"))\n",
    "    category = input(\"Enter the category of product(cake,electronics,general): \")\n",
    "    record[key] = {\"Name\": name, \"Price\": price, \"Quantity\": quantity, \"Category\": category}\n",
    "    save_to_json(record)\n",
    "    print(f\"Product {name} added successfully!\")\n",
    "    \n",
    "def buy():\n",
    "    key = input(\"Enter Product ID to buy: \")\n",
    "    qn = int(input(\"Enter quantity to buy: \"))\n",
    "    if qn <= record[key][\"Quantity\"]:\n",
    "        print(\"-\"*13 + \"MART\" + \"-\"*13)\n",
    "        print(\"Name: \", record[key][\"Name\"])\n",
    "        print(\"Price: \", record[key][\"Price\"])\n",
    "        print(\"Quantity: \", qn)\n",
    "\n",
    "        total = record[key][\"Price\"] * qn\n",
    "        final = discount(total)\n",
    "        print(\"-\"*30)\n",
    "        print(\"Billing Amount: \", total)\n",
    "        print(\"Discount Applied: \", final[0])\n",
    "        print(\"Final Amount:\", final[1])\n",
    "\n",
    "        grand = tax(final[1],key)\n",
    "        print(\"GST (As per Category): \", )\n",
    "        print(\"Grand total: \", grand[1])\n",
    "        print(\"-\"*30)\n",
    "\n",
    "        record[key][\"Quantity\"] -= qn\n",
    "        save_to_json(record)\n",
    "        sales(key, qn)\n",
    "    else:\n",
    "        print(\"Sorry We are not having Enough quantity.\")\n",
    "        print(\"We're having only \", record[key][\"Quantity\"], \"quantity\")\n",
    "        print(\"Would you like to purchase it?\")\n",
    "    \n",
    "        ch = input(\"Press Y/N: \")\n",
    "        if ch.lower() == 'y':\n",
    "            print(\"-\"*13 + \"MART\" + \"-\"*13)\n",
    "            print(\"Name: \", record[key][\"Name\"])\n",
    "            print(\"Price: \", record[key][\"Price\"])\n",
    "            print(\"Quantity: \", record[key][\"Quantity\"])\n",
    "\n",
    "            total = record[key][\"Price\"] * record[key][\"Quantity\"]\n",
    "            final = discount(total)\n",
    "            print(\"-\"*30)\n",
    "            print(\"Total Amount: \", total)\n",
    "            print(\"Discount Applied: \", final[0])\n",
    "            print(\"Final Amount: \", final[1])\n",
    "            \n",
    "            grand = tax(final[1],key)\n",
    "            print(\"Grand total: \", grand[1])\n",
    "            print(\"-\"*30)\n",
    "\n",
    "            del record[key]\n",
    "            save_to_json(record)\n",
    "            sales(key, qn)\n",
    "        else:\n",
    "            print(\"Thanks for visiting, exiting shop.\")\n",
    "            \n",
    "def view():\n",
    "    if not record:\n",
    "        print(\"Shop is empty.\")\n",
    "    else:\n",
    "        for key in record.keys():\n",
    "            print(key, record[key])\n",
    "\n",
    "def save_to_json(record):\n",
    "    with open(\"records.json\", \"w\") as file:\n",
    "        json_data = json.dumps(record, indent = 4)\n",
    "        file.write(json_data)\n",
    "\n",
    "def sales(key, qn):\n",
    "    name = input(\"Enter your name: \")\n",
    "    Email = input(\"Enter your E-mail: \")\n",
    "    with open(\"json_sales\", \"a\") as file:\n",
    "        file.write(f\"{name},{Email},{key},{qn},{time.strftime(\"%d-%m-%Y,%H:%M:%S\")}\\n\")\n",
    "\n",
    "def transaction_hisory():\n",
    "    with open(\"json_sales\", \"r\") as file:\n",
    "        print(file.read().strip())\n",
    "\n",
    "def discount(total):\n",
    "    if total >= 5000 and total < 7000:\n",
    "        final = total - 500\n",
    "        return \"500/-\",final\n",
    "    elif total >= 7000:\n",
    "        final = total * 0.9\n",
    "        return \"10%\",final\n",
    "    else:\n",
    "        final = total\n",
    "        return \"0\",final\n",
    "\n",
    "def tax(price,id):\n",
    "    if \"cake\" == record[id][\"Category\"].lower():\n",
    "        gst_rate = gst_rates[\"cake\"]\n",
    "        return gst_rate, price * (1 + gst_rate)\n",
    "    elif \"electronics\" == record[id][\"Category\"].lower():\n",
    "        gst_rate = gst_rates[\"electronics\"]\n",
    "        return gst_rate, price * (1 + gst_rate)\n",
    "    elif \"general\" == record[id][\"Category\"].lower():\n",
    "        gst_rate = gst_rates[\"general\"]\n",
    "        return gst_rate, price * (1 + gst_rate)\n",
    "    else:\n",
    "        gst_rate = 0\n",
    "        return gst_rate, price"
   ]
  },
  {
   "cell_type": "code",
   "execution_count": 26,
   "id": "976b540f-4205-485c-8361-0e6364034d1d",
   "metadata": {},
   "outputs": [
    {
     "name": "stdout",
     "output_type": "stream",
     "text": [
      "1. Add items to MART\n",
      "2. view the MART\n",
      "3. Purchase by Product ID\n",
      "4. View Transaction history\n",
      "5. close\n",
      "\n",
      " Discount: Flat 500/- on 5000/-, 10% on 7000/- \n"
     ]
    },
    {
     "name": "stdin",
     "output_type": "stream",
     "text": [
      "\n",
      "Enter your choice:  2\n"
     ]
    },
    {
     "name": "stdout",
     "output_type": "stream",
     "text": [
      "1002 {'Name': 'bar-one', 'Price': 20, 'Quantity': 100}\n",
      "1003 {'Name': 'candy', 'Price': 2, 'Quantity': 960}\n",
      "1004 {'Name': 'chocolate cake', 'Price': 550, 'Quantity': 5}\n",
      "1005 {'Name': 'blueberry cake', 'Price': 650, 'Quantity': 5}\n",
      "1006 {'Name': 'corneto', 'Price': 15, 'Quantity': 75}\n",
      "1008 {'Name': 'plazo', 'Price': 30, 'Quantity': 0, 'Category': 'general'}\n"
     ]
    },
    {
     "name": "stdin",
     "output_type": "stream",
     "text": [
      "\n",
      "Enter your choice:  4\n"
     ]
    },
    {
     "name": "stdout",
     "output_type": "stream",
     "text": [
      "first ,try,1003,10,28-03-2025,21:27:39\n",
      "second,trial,1003,10,28-03-2025,21:29:03\n",
      "third,try,1003,10,28-03-2025,21:30:32\n",
      "5,err,1006,5,28-03-2025,21:57:28\n",
      "5,done gst,1008,300,28-03-2025,22:14:59\n"
     ]
    },
    {
     "name": "stdin",
     "output_type": "stream",
     "text": [
      "\n",
      "Enter your choice:  5\n"
     ]
    },
    {
     "name": "stdout",
     "output_type": "stream",
     "text": [
      "Exited Successfully.\n"
     ]
    }
   ],
   "source": [
    "print(\"1. Add items to MART\")\n",
    "print(\"2. view the MART\")\n",
    "print(\"3. Purchase by Product ID\")\n",
    "print(\"4. View Transaction history\")\n",
    "print(\"5. close\")\n",
    "print(\"\\n Discount: Flat 500/- on 5000/-, 10% on 7000/- \")\n",
    "try:\n",
    "    while True:\n",
    "            n = int(input(\"\\nEnter your choice: \"))\n",
    "            if n == 1:\n",
    "                add()\n",
    "            elif n == 2:\n",
    "                view()\n",
    "            elif n == 3:\n",
    "                buy()\n",
    "            elif n == 4:\n",
    "                transaction_hisory()\n",
    "            elif n == 5:\n",
    "                print(\"Exited Successfully.\")\n",
    "                break\n",
    "            else:\n",
    "                print(\"Enter valid option!\")\n",
    "except:\n",
    "    print(\"Enter numeric value!\")"
   ]
  },
  {
   "cell_type": "code",
   "execution_count": null,
   "id": "3d7eb7e5-4a31-49f1-88a7-eed8748bbb45",
   "metadata": {},
   "outputs": [],
   "source": []
  }
 ],
 "metadata": {
  "kernelspec": {
   "display_name": "Python 3 (ipykernel)",
   "language": "python",
   "name": "python3"
  },
  "language_info": {
   "codemirror_mode": {
    "name": "ipython",
    "version": 3
   },
   "file_extension": ".py",
   "mimetype": "text/x-python",
   "name": "python",
   "nbconvert_exporter": "python",
   "pygments_lexer": "ipython3",
   "version": "3.12.7"
  }
 },
 "nbformat": 4,
 "nbformat_minor": 5
}
